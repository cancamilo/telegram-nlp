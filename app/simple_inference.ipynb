{
 "cells": [
  {
   "cell_type": "code",
   "execution_count": 28,
   "metadata": {},
   "outputs": [
    {
     "name": "stdout",
     "output_type": "stream",
     "text": [
      "The autoreload extension is already loaded. To reload it, use:\n",
      "  %reload_ext autoreload\n"
     ]
    }
   ],
   "source": [
    "%load_ext autoreload\n",
    "%autoreload 2\n",
    "from predictor import Predictor"
   ]
  },
  {
   "cell_type": "code",
   "execution_count": 29,
   "metadata": {},
   "outputs": [],
   "source": [
    "model_name = \"models/telegram_multiclass_1\"\n",
    "pred = Predictor(model_name)\n",
    "\n",
    "messages = [\n",
    "    \"this is very positive for this project\",\n",
    "    \"this is great news\", \n",
    "    \"this is good\",\n",
    "    \"i am bullish on this project\",\n",
    "    \"i am dumping all my coins now!\", \n",
    "    \"time to buy\", \n",
    "    \"time to sell\",\n",
    "    \"this is a shit coin\",\n",
    "    \"thanks for the info\",\n",
    "    \"i am not sure about that\",\n",
    "    \"could you provide us more details?\"\n",
    "]\n",
    "\n",
    "preds, probs  = pred.compute_predictions(messages)"
   ]
  },
  {
   "cell_type": "code",
   "execution_count": 30,
   "metadata": {},
   "outputs": [
    {
     "data": {
      "text/plain": [
       "tensor([[0.0026, 0.0093, 0.9880],\n",
       "        [0.0024, 0.0095, 0.9881],\n",
       "        [0.0022, 0.0603, 0.9375],\n",
       "        [0.0087, 0.3346, 0.6567],\n",
       "        [0.9956, 0.0028, 0.0016],\n",
       "        [0.0837, 0.8915, 0.0249],\n",
       "        [0.9640, 0.0329, 0.0031],\n",
       "        [0.9957, 0.0027, 0.0016],\n",
       "        [0.0018, 0.9517, 0.0465],\n",
       "        [0.0148, 0.9841, 0.0010],\n",
       "        [0.0018, 0.9941, 0.0041]], device='mps:0')"
      ]
     },
     "execution_count": 30,
     "metadata": {},
     "output_type": "execute_result"
    }
   ],
   "source": [
    "probs"
   ]
  },
  {
   "cell_type": "code",
   "execution_count": 31,
   "metadata": {},
   "outputs": [
    {
     "data": {
      "text/plain": [
       "[('this is a shit coin',\n",
       "  array([0.9957497 , 0.00268228, 0.00156796], dtype=float32)),\n",
       " ('i am dumping all my coins now!',\n",
       "  array([0.99555486, 0.00282821, 0.00161686], dtype=float32)),\n",
       " ('time to sell', array([0.9639674 , 0.03294852, 0.00308403], dtype=float32)),\n",
       " ('time to buy', array([0.08365349, 0.891461  , 0.02488548], dtype=float32)),\n",
       " ('i am not sure about that',\n",
       "  array([0.01481705, 0.9841474 , 0.00103553], dtype=float32)),\n",
       " ('i am bullish on this project',\n",
       "  array([0.00867337, 0.33461767, 0.6567089 ], dtype=float32)),\n",
       " ('this is very positive for this project',\n",
       "  array([0.00261058, 0.00934156, 0.98804784], dtype=float32)),\n",
       " ('this is great news',\n",
       "  array([0.00236358, 0.00950159, 0.98813486], dtype=float32)),\n",
       " ('this is good', array([0.00220504, 0.06030818, 0.93748677], dtype=float32)),\n",
       " ('could you provide us more details?',\n",
       "  array([0.00179174, 0.99408746, 0.00412079], dtype=float32))]"
      ]
     },
     "execution_count": 31,
     "metadata": {},
     "output_type": "execute_result"
    }
   ],
   "source": [
    "pred.top_negative(messages, probs)"
   ]
  },
  {
   "cell_type": "code",
   "execution_count": 32,
   "metadata": {},
   "outputs": [
    {
     "data": {
      "text/plain": [
       "['this is great news',\n",
       " 'this is very positive for this project',\n",
       " 'this is good',\n",
       " 'i am bullish on this project',\n",
       " 'thanks for the info',\n",
       " 'time to buy',\n",
       " 'could you provide us more details?',\n",
       " 'time to sell',\n",
       " 'i am dumping all my coins now!',\n",
       " 'this is a shit coin']"
      ]
     },
     "execution_count": 32,
     "metadata": {},
     "output_type": "execute_result"
    }
   ],
   "source": [
    "pred.top_positive(messages, probs)"
   ]
  },
  {
   "cell_type": "markdown",
   "metadata": {},
   "source": [
    "### With telegram real messages"
   ]
  },
  {
   "cell_type": "code",
   "execution_count": 45,
   "metadata": {},
   "outputs": [],
   "source": [
    "import os\n",
    "from telethon.sync import TelegramClient\n",
    "from IPython.display import display\n",
    "\n",
    "from dotenv import load_dotenv, find_dotenv\n",
    "load_dotenv(find_dotenv()) # read local .env file\n",
    "\n",
    "api_id = os.environ[\"TELEGRAM_API_ID\"]\n",
    "api_hash = os.environ[\"TELEGRAM_API_HASH\"]\n",
    "phone = \"+34634454832\"\n",
    "username = \"@elvesipeto\"\n",
    "messages = []\n",
    "\n",
    "client = TelegramClient(\"../sessions_data/+34634454832\", api_id, api_hash)\n",
    "channel_id = \"@runonflux\"\n",
    "channel_messages = []\n",
    "async with client:\n",
    "        async for msg in client.iter_messages(channel_id, 2000):\n",
    "            channel_messages.append(msg.message)"
   ]
  },
  {
   "cell_type": "code",
   "execution_count": 34,
   "metadata": {},
   "outputs": [
    {
     "data": {
      "text/plain": [
       "1000"
      ]
     },
     "execution_count": 34,
     "metadata": {},
     "output_type": "execute_result"
    }
   ],
   "source": [
    "len(channel_messages)"
   ]
  },
  {
   "cell_type": "code",
   "execution_count": 49,
   "metadata": {},
   "outputs": [],
   "source": [
    "filtered_messages = [m for m in channel_messages if m != None and len(m) > 2]\n",
    "preds, probs  = pred.compute_predictions(filtered_messages)"
   ]
  },
  {
   "cell_type": "code",
   "execution_count": 50,
   "metadata": {},
   "outputs": [],
   "source": [
    "negative = pred.top_negative(filtered_messages, probs)"
   ]
  },
  {
   "cell_type": "code",
   "execution_count": 51,
   "metadata": {},
   "outputs": [
    {
     "data": {
      "text/plain": [
       "['Why Flux always 0,31$ 🤷\\u200d♂',\n",
       " \"Got banned for forwarding Liza's message about the AMA, asked if it was a mistake because it's from Flux team, they said not allowed 🥲\",\n",
       " 'Don’t listen. That’s fake admin',\n",
       " \"there's an aktar and a bobby DM me atm - are they scammers or real admin?\",\n",
       " 'Hey mate, see message above you. A scammer tagging a scam duplicate account of you, asking people to DM it',\n",
       " 'Scammers go fuck yourselfes dont dm me',\n",
       " '@iMnOTdAz [1211414389] is sending a spam message. \\nAction: Banned 🚷 until 15/10/2023 21:17.',\n",
       " '@David_trader54 [6200109690] is sending a spam message. \\nAction: Banned 🚷 until 09/10/2023 13:15.',\n",
       " 'Сергей [5966134763] is sending a spam message. \\nAction: Banned 🚷 until 19/10/2023 05:01.',\n",
       " 'Insufficient funds to pay Polygon Chain transaction\\nfee.',\n",
       " \"If you are getting these NFT's in your wallet do not click on/or interact with them\\nThey are a 100% scam trying to rob you\",\n",
       " 'Anybody withdraw Flux  from CoinEX?\\nLooks suspended',\n",
       " '7th red month so far . Will September be green again? What you guys think?',\n",
       " 'There are a couple scammers impersonating him',\n",
       " 'Looks like i am not able to send you DM',\n",
       " 'I followed the tutorial, but it will prompt: Insufficient funds to pay Polygon Chain transaction fee',\n",
       " 'Scammy McScamscam',\n",
       " 'Yup, report and block... Stupid scammers',\n",
       " \"Fyi, don't transfer any official message like this one to the French Flux group, you'll get banned for it, and they won't unban, apologize or recognize that an official message can be forwarded to their group 🤡. \\nIt seems like Flux news are forbidden there.\",\n",
       " 'WARNING: Do not accept DM from anyone. Admin will never DM you first.',\n",
       " 'WARNING: Do not accept DM from anyone. Admin will never DM you first.',\n",
       " 'WARNING: Do not accept DM from anyone. Admin will never DM you first.',\n",
       " 'WARNING: Do not accept DM from anyone. Admin will never DM you first.',\n",
       " 'WARNING: Do not accept DM from anyone. Admin will never DM you first.',\n",
       " 'WARNING: Do not accept DM from anyone. Admin will never DM you first.',\n",
       " 'WARNING: Do not accept DM from anyone. Admin will never DM you first.',\n",
       " 'WARNING: Do not accept DM from anyone. Admin will never DM you first.',\n",
       " 'WARNING: Do not accept DM from anyone. Admin will never DM you first.',\n",
       " 'WARNING: Do not accept DM from anyone. Admin will never DM you first.',\n",
       " 'WARNING: Do not accept DM from anyone. Admin will never DM you first.',\n",
       " 'WARNING: Do not accept DM from anyone. Admin will never DM you first.',\n",
       " 'WARNING: Do not accept DM from anyone. Admin will never DM you first.',\n",
       " 'WARNING: Do not accept DM from anyone. Admin will never DM you first.',\n",
       " 'WARNING: Do not accept DM from anyone. Admin will never DM you first.',\n",
       " 'WARNING: Do not accept DM from anyone. Admin will never DM you first.',\n",
       " 'WARNING: Do not accept DM from anyone. Admin will never DM you first.',\n",
       " 'WARNING: Do not accept DM from anyone. Admin will never DM you first.',\n",
       " 'WARNING: Do not accept DM from anyone. Admin will never DM you first.',\n",
       " 'WARNING: Do not accept DM from anyone. Admin will never DM you first.',\n",
       " 'WARNING: Do not accept DM from anyone. Admin will never DM you first.',\n",
       " 'WARNING: Do not accept DM from anyone. Admin will never DM you first.',\n",
       " 'WARNING: Do not accept DM from anyone. Admin will never DM you first.',\n",
       " 'WARNING: Do not accept DM from anyone. Admin will never DM you first.',\n",
       " 'WARNING: Do not accept DM from anyone. Admin will never DM you first.',\n",
       " 'WARNING: Do not accept DM from anyone. Admin will never DM you first.',\n",
       " 'WARNING: Do not accept DM from anyone. Admin will never DM you first.',\n",
       " 'WARNING: Do not accept DM from anyone. Admin will never DM you first.',\n",
       " 'WARNING: Do not accept DM from anyone. Admin will never DM you first.',\n",
       " 'WARNING: Do not accept DM from anyone. Admin will never DM you first.',\n",
       " 'WARNING: Do not accept DM from anyone. Admin will never DM you first.']"
      ]
     },
     "execution_count": 51,
     "metadata": {},
     "output_type": "execute_result"
    }
   ],
   "source": [
    "list(negative)"
   ]
  },
  {
   "cell_type": "code",
   "execution_count": 37,
   "metadata": {},
   "outputs": [
    {
     "data": {
      "text/plain": [
       "['Or is it a total rebuild',\n",
       " 'I have kda on zelcore on the income wallet but when I want to use it in zelcore fusion its showing 0',\n",
       " 'Yes, I enabled it. Now I just forget it and want to know how to modify it and get it back.',\n",
       " 'If you have enabled d2fa pin for login, then of course you need both, your password AND the d2fa pin',\n",
       " '📢 FluxOS v4.11.0 has been released!\\n\\n\\nThis release improves the consistency of checks for opened ports.\\nFor the full changelog, please refer to:\\nhttps://github.com/RunOnFlux/flux/releases/tag/v4.11.0 \\n\\n\\n#Web3 #DePIN #SuperCloud',\n",
       " 'The #Flux team, doing what they do, making magic!',\n",
       " 'Q3 2023 has been a massive quarter for Flux and PoUW! ☁️\\n\\nRead about our roadmap delivery including a record number of exchange listings and other huge milestones in our Q3 recap article here...\\nhttps://fluxofficial.medium.com/flux-q3-2023-report-9594d85adb52',\n",
       " 'Q3 2023 has been a massive quarter for Flux and PoUW! ☁️\\n\\nRead about our roadmap delivery including a record number of exchange listings and other huge milestones in our Q3 recap article here...\\nhttps://fluxofficial.medium.com/flux-q3-2023-report-9594d85adb52',\n",
       " \"Davy Wittock and Alex Perritaz are teaming up to provide you with an overview and exclusive sneak preview of #FluxPoUW at CypherPunk2023! \\n👀  Curious about the future of GPU compute? Don't miss their live on-stage presentation! 🔥\",\n",
       " 'You can switch to upnp - option 14 on multi tool and enable upnp on your router']"
      ]
     },
     "execution_count": 37,
     "metadata": {},
     "output_type": "execute_result"
    }
   ],
   "source": [
    "pred.top_positive(filtered_messages, probs)"
   ]
  },
  {
   "cell_type": "code",
   "execution_count": 38,
   "metadata": {},
   "outputs": [],
   "source": [
    "m = [\n",
    "    \"this is a shit coin\",\n",
    "    '$FLUX is now available on Uphold! Trading is LIVE ✅\\n\\n☁️ Flux aims to build the next generation of decentralized computing power for Web3. Trade FLUX now: http://wallet.uphold.com/login',\n",
    "    \"this is a clear hodl\",\n",
    "    'Hey how come Bunny analyst revenue has fallen so much... Shows 8.5k flux and we are already past the half way mark of the month... Any reason for such a dip?? Even no. Of apps are falling'\n",
    "]\n",
    "\n",
    "preds, probs  = pred.compute_predictions(m)"
   ]
  },
  {
   "cell_type": "code",
   "execution_count": 39,
   "metadata": {},
   "outputs": [
    {
     "data": {
      "text/plain": [
       "tensor([[0.9957, 0.0027, 0.0016],\n",
       "        [0.0019, 0.0095, 0.9886],\n",
       "        [0.0043, 0.9568, 0.0388],\n",
       "        [0.9922, 0.0057, 0.0021]], device='mps:0')"
      ]
     },
     "execution_count": 39,
     "metadata": {},
     "output_type": "execute_result"
    }
   ],
   "source": [
    "probs"
   ]
  },
  {
   "cell_type": "code",
   "execution_count": 40,
   "metadata": {},
   "outputs": [
    {
     "data": {
      "text/plain": [
       "array([0, 3, 2, 1])"
      ]
     },
     "execution_count": 40,
     "metadata": {},
     "output_type": "execute_result"
    }
   ],
   "source": [
    "prob_np = probs.cpu().numpy()\n",
    "idx = prob_np[:, 0].argsort()[::-1]\n",
    "idx"
   ]
  },
  {
   "cell_type": "code",
   "execution_count": 41,
   "metadata": {},
   "outputs": [
    {
     "data": {
      "text/plain": [
       "[('this is a shit coin', tensor([0.9957, 0.0027, 0.0016], device='mps:0')),\n",
       " ('Hey how come Bunny analyst revenue has fallen so much... Shows 8.5k flux and we are already past the half way mark of the month... Any reason for such a dip?? Even no. Of apps are falling',\n",
       "  tensor([0.9922, 0.0057, 0.0021], device='mps:0')),\n",
       " ('this is a clear hodl', tensor([0.0043, 0.9568, 0.0388], device='mps:0')),\n",
       " ('$FLUX is now available on Uphold! Trading is LIVE ✅\\n\\n☁️ Flux aims to build the next generation of decentralized computing power for Web3. Trade FLUX now: http://wallet.uphold.com/login',\n",
       "  tensor([0.0019, 0.0095, 0.9886], device='mps:0'))]"
      ]
     },
     "execution_count": 41,
     "metadata": {},
     "output_type": "execute_result"
    }
   ],
   "source": [
    "\n",
    "most_negative = [(m[i], probs[i]) for i in list(idx)]\n",
    "most_negative"
   ]
  },
  {
   "cell_type": "code",
   "execution_count": 42,
   "metadata": {},
   "outputs": [
    {
     "data": {
      "text/plain": [
       "[('this is a shit coin',\n",
       "  array([0.9957497 , 0.00268228, 0.00156796], dtype=float32)),\n",
       " ('Hey how come Bunny analyst revenue has fallen so much... Shows 8.5k flux and we are already past the half way mark of the month... Any reason for such a dip?? Even no. Of apps are falling',\n",
       "  array([0.99221957, 0.00566037, 0.00212005], dtype=float32)),\n",
       " ('this is a clear hodl',\n",
       "  array([0.00433448, 0.95681584, 0.0388497 ], dtype=float32)),\n",
       " ('$FLUX is now available on Uphold! Trading is LIVE ✅\\n\\n☁️ Flux aims to build the next generation of decentralized computing power for Web3. Trade FLUX now: http://wallet.uphold.com/login',\n",
       "  array([0.00193406, 0.00947078, 0.9885952 ], dtype=float32))]"
      ]
     },
     "execution_count": 42,
     "metadata": {},
     "output_type": "execute_result"
    }
   ],
   "source": [
    "pred.top_negative(m, probs)"
   ]
  }
 ],
 "metadata": {
  "kernelspec": {
   "display_name": "torch",
   "language": "python",
   "name": "python3"
  },
  "language_info": {
   "codemirror_mode": {
    "name": "ipython",
    "version": 3
   },
   "file_extension": ".py",
   "mimetype": "text/x-python",
   "name": "python",
   "nbconvert_exporter": "python",
   "pygments_lexer": "ipython3",
   "version": "3.9.18"
  },
  "orig_nbformat": 4
 },
 "nbformat": 4,
 "nbformat_minor": 2
}
