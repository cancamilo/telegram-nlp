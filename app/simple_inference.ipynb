{
 "cells": [
  {
   "cell_type": "code",
   "execution_count": 52,
   "metadata": {},
   "outputs": [
    {
     "name": "stdout",
     "output_type": "stream",
     "text": [
      "The autoreload extension is already loaded. To reload it, use:\n",
      "  %reload_ext autoreload\n"
     ]
    }
   ],
   "source": [
    "%load_ext autoreload\n",
    "%autoreload 2\n",
    "from predictor import Predictor"
   ]
  },
  {
   "cell_type": "code",
   "execution_count": 53,
   "metadata": {},
   "outputs": [],
   "source": [
    "model_name = \"models/telegram_multiclass_1\"\n",
    "pred = Predictor(model_name)\n",
    "\n",
    "messages = [\n",
    "    \"this is very positive for this project\",\n",
    "    \"this is great news\", \n",
    "    \"this is good\",\n",
    "    \"i am bullish on this project\",\n",
    "    \"i am dumping all my coins now!\", \n",
    "    \"time to buy\", \n",
    "    \"time to sell\",\n",
    "    \"this is a shit coin\",\n",
    "    \"thanks for the info\",\n",
    "    \"i am not sure about that\",\n",
    "    \"could you provide us more details?\"\n",
    "]\n",
    "\n",
    "preds, probs  = pred.compute_predictions(messages)"
   ]
  },
  {
   "cell_type": "code",
   "execution_count": 54,
   "metadata": {},
   "outputs": [
    {
     "data": {
      "text/plain": [
       "['this is a shit coin',\n",
       " 'i am dumping all my coins now!',\n",
       " 'time to sell',\n",
       " 'time to buy',\n",
       " 'i am not sure about that',\n",
       " 'i am bullish on this project',\n",
       " 'this is very positive for this project',\n",
       " 'this is great news',\n",
       " 'this is good',\n",
       " 'could you provide us more details?']"
      ]
     },
     "execution_count": 54,
     "metadata": {},
     "output_type": "execute_result"
    }
   ],
   "source": [
    "pred.top_negative(messages, probs)"
   ]
  },
  {
   "cell_type": "code",
   "execution_count": 55,
   "metadata": {},
   "outputs": [
    {
     "data": {
      "text/plain": [
       "['this is great news',\n",
       " 'this is very positive for this project',\n",
       " 'this is good',\n",
       " 'i am bullish on this project',\n",
       " 'thanks for the info',\n",
       " 'time to buy',\n",
       " 'could you provide us more details?',\n",
       " 'time to sell',\n",
       " 'i am dumping all my coins now!',\n",
       " 'this is a shit coin']"
      ]
     },
     "execution_count": 55,
     "metadata": {},
     "output_type": "execute_result"
    }
   ],
   "source": [
    "pred.top_positive(messages, probs)"
   ]
  }
 ],
 "metadata": {
  "kernelspec": {
   "display_name": "torch",
   "language": "python",
   "name": "python3"
  },
  "language_info": {
   "codemirror_mode": {
    "name": "ipython",
    "version": 3
   },
   "file_extension": ".py",
   "mimetype": "text/x-python",
   "name": "python",
   "nbconvert_exporter": "python",
   "pygments_lexer": "ipython3",
   "version": "3.9.18"
  },
  "orig_nbformat": 4
 },
 "nbformat": 4,
 "nbformat_minor": 2
}
