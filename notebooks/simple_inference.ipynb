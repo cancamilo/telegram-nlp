{
 "cells": [
  {
   "cell_type": "markdown",
   "metadata": {},
   "source": [
    "# Telegram Sentiment classification\n",
    "\n",
    "This notebook demonstrates the usage of the telegram sentiment classifier module "
   ]
  },
  {
   "cell_type": "code",
   "execution_count": 1,
   "metadata": {},
   "outputs": [],
   "source": [
    "%load_ext autoreload\n",
    "%autoreload 2\n",
    "from sentiment_predictor import SentimentPredictor"
   ]
  },
  {
   "cell_type": "markdown",
   "metadata": {},
   "source": [
    "## Simple usage "
   ]
  },
  {
   "cell_type": "code",
   "execution_count": 5,
   "metadata": {},
   "outputs": [],
   "source": [
    "model_name = \"app/models/telegram_multiclass_1\"\n",
    "pred = SentimentPredictor(model_name)\n",
    "\n",
    "messages = [\n",
    "    \"this is very positive for this project\",\n",
    "    \"this is great news\", \n",
    "    \"this is good\",\n",
    "    \"i am bullish on this project\",\n",
    "    \"i am dumping all my coins now!\", \n",
    "    \"time to buy\", \n",
    "    \"time to sell\",\n",
    "    \"this is a shit coin\",\n",
    "    \"thanks for the info\",\n",
    "    \"i am not sure about that\",\n",
    "    \"could you provide us more details?\"\n",
    "]\n",
    "\n",
    "preds, probs  = pred.compute_predictions(messages)"
   ]
  },
  {
   "cell_type": "code",
   "execution_count": 6,
   "metadata": {},
   "outputs": [
    {
     "data": {
      "text/plain": [
       "tensor([[0.0026, 0.0093, 0.9880],\n",
       "        [0.0024, 0.0095, 0.9881],\n",
       "        [0.0022, 0.0603, 0.9375],\n",
       "        [0.0087, 0.3346, 0.6567],\n",
       "        [0.9956, 0.0028, 0.0016],\n",
       "        [0.0837, 0.8915, 0.0249],\n",
       "        [0.9640, 0.0329, 0.0031],\n",
       "        [0.9957, 0.0027, 0.0016],\n",
       "        [0.0018, 0.9517, 0.0465],\n",
       "        [0.0148, 0.9841, 0.0010],\n",
       "        [0.0018, 0.9941, 0.0041]], device='mps:0')"
      ]
     },
     "execution_count": 6,
     "metadata": {},
     "output_type": "execute_result"
    }
   ],
   "source": [
    "probs"
   ]
  },
  {
   "cell_type": "code",
   "execution_count": 7,
   "metadata": {},
   "outputs": [
    {
     "data": {
      "text/plain": [
       "['this is a shit coin',\n",
       " 'i am dumping all my coins now!',\n",
       " 'time to sell',\n",
       " 'time to buy',\n",
       " 'i am not sure about that',\n",
       " 'i am bullish on this project',\n",
       " 'this is very positive for this project',\n",
       " 'this is great news',\n",
       " 'this is good',\n",
       " 'could you provide us more details?',\n",
       " 'thanks for the info']"
      ]
     },
     "execution_count": 7,
     "metadata": {},
     "output_type": "execute_result"
    }
   ],
   "source": [
    "pred.top_negative(messages, probs)"
   ]
  },
  {
   "cell_type": "code",
   "execution_count": 8,
   "metadata": {},
   "outputs": [
    {
     "data": {
      "text/plain": [
       "['this is great news',\n",
       " 'this is very positive for this project',\n",
       " 'this is good',\n",
       " 'i am bullish on this project',\n",
       " 'thanks for the info',\n",
       " 'time to buy',\n",
       " 'could you provide us more details?',\n",
       " 'time to sell',\n",
       " 'i am dumping all my coins now!',\n",
       " 'this is a shit coin',\n",
       " 'i am not sure about that']"
      ]
     },
     "execution_count": 8,
     "metadata": {},
     "output_type": "execute_result"
    }
   ],
   "source": [
    "pred.top_positive(messages, probs)"
   ]
  },
  {
   "cell_type": "markdown",
   "metadata": {},
   "source": [
    "## With telegram real messages"
   ]
  },
  {
   "cell_type": "code",
   "execution_count": 10,
   "metadata": {},
   "outputs": [],
   "source": [
    "import os\n",
    "from telethon.sync import TelegramClient\n",
    "from IPython.display import display\n",
    "\n",
    "from dotenv import load_dotenv, find_dotenv\n",
    "load_dotenv(find_dotenv()) # read local .env file\n",
    "\n",
    "api_id = os.environ[\"TELEGRAM_API_ID\"]\n",
    "api_hash = os.environ[\"TELEGRAM_API_HASH\"]\n",
    "phone = \"+34634454832\"\n",
    "username = \"@elvesipeto\"\n",
    "messages = []\n",
    "\n",
    "client = TelegramClient(\"sessions_data/+34634454832\", api_id, api_hash)\n",
    "channel_id = \"@runonflux\"\n",
    "channel_messages = []\n",
    "async with client:\n",
    "        async for msg in client.iter_messages(channel_id, 2000):\n",
    "            channel_messages.append(msg.message)"
   ]
  },
  {
   "cell_type": "code",
   "execution_count": 11,
   "metadata": {},
   "outputs": [
    {
     "data": {
      "text/plain": [
       "2000"
      ]
     },
     "execution_count": 11,
     "metadata": {},
     "output_type": "execute_result"
    }
   ],
   "source": [
    "len(channel_messages)"
   ]
  },
  {
   "cell_type": "code",
   "execution_count": 12,
   "metadata": {},
   "outputs": [],
   "source": [
    "filtered_messages = [m for m in channel_messages if m != None and len(m) > 2]\n",
    "preds, probs  = pred.compute_predictions(filtered_messages)"
   ]
  },
  {
   "cell_type": "code",
   "execution_count": 13,
   "metadata": {},
   "outputs": [],
   "source": [
    "negative = pred.top_negative(filtered_messages, probs)"
   ]
  },
  {
   "cell_type": "code",
   "execution_count": 15,
   "metadata": {},
   "outputs": [],
   "source": [
    "positive = pred.top_positive(filtered_messages, probs)"
   ]
  }
 ],
 "metadata": {
  "kernelspec": {
   "display_name": "torch",
   "language": "python",
   "name": "python3"
  },
  "language_info": {
   "codemirror_mode": {
    "name": "ipython",
    "version": 3
   },
   "file_extension": ".py",
   "mimetype": "text/x-python",
   "name": "python",
   "nbconvert_exporter": "python",
   "pygments_lexer": "ipython3",
   "version": "3.10.11"
  },
  "orig_nbformat": 4
 },
 "nbformat": 4,
 "nbformat_minor": 2
}
