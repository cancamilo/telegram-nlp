{
 "cells": [
  {
   "cell_type": "code",
   "execution_count": 1,
   "metadata": {},
   "outputs": [],
   "source": [
    "import sys\n",
    "import os"
   ]
  },
  {
   "cell_type": "code",
   "execution_count": 4,
   "metadata": {},
   "outputs": [
    {
     "name": "stdout",
     "output_type": "stream",
     "text": [
      "modules not in sys path\n"
     ]
    }
   ],
   "source": [
    "modules_path = os.path.join(os.getcwd(), \"modules\")\n",
    "if modules_path not in sys.path:\n",
    "    print(\"modules not in sys path. Inserting\", modules_path)\n",
    "    sys.path.insert(0, modules_path)"
   ]
  },
  {
   "cell_type": "code",
   "execution_count": 2,
   "metadata": {},
   "outputs": [
    {
     "data": {
      "text/plain": [
       "['/Users/camilo.ramirez/Documents/mai-repos/telegram-nlp',\n",
       " '/Users/camilo.ramirez/Documents/mai-repos/telegram-nlp/notebooks',\n",
       " '/Users/camilo.ramirez/.pyenv/versions/3.10.11/lib/python310.zip',\n",
       " '/Users/camilo.ramirez/.pyenv/versions/3.10.11/lib/python3.10',\n",
       " '/Users/camilo.ramirez/.pyenv/versions/3.10.11/lib/python3.10/lib-dynload',\n",
       " '',\n",
       " '/Users/camilo.ramirez/Library/Caches/pypoetry/virtualenvs/telegram-nlp-6m6KizWy-py3.10/lib/python3.10/site-packages']"
      ]
     },
     "execution_count": 2,
     "metadata": {},
     "output_type": "execute_result"
    }
   ],
   "source": [
    "sys.path"
   ]
  },
  {
   "cell_type": "code",
   "execution_count": 5,
   "metadata": {},
   "outputs": [],
   "source": [
    "import semantic_search_generator"
   ]
  }
 ],
 "metadata": {
  "kernelspec": {
   "display_name": "telegram-nlp-6m6KizWy-py3.10",
   "language": "python",
   "name": "python3"
  },
  "language_info": {
   "codemirror_mode": {
    "name": "ipython",
    "version": 3
   },
   "file_extension": ".py",
   "mimetype": "text/x-python",
   "name": "python",
   "nbconvert_exporter": "python",
   "pygments_lexer": "ipython3",
   "version": "3.10.11"
  },
  "orig_nbformat": 4
 },
 "nbformat": 4,
 "nbformat_minor": 2
}
