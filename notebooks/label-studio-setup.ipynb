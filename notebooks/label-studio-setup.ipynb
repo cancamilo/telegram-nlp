{
 "cells": [
  {
   "cell_type": "markdown",
   "metadata": {},
   "source": [
    "# Setup label studio"
   ]
  },
  {
   "cell_type": "code",
   "execution_count": 44,
   "metadata": {},
   "outputs": [],
   "source": [
    "from label_studio_sdk import Client\n",
    "import pandas as pd"
   ]
  },
  {
   "cell_type": "markdown",
   "metadata": {},
   "source": [
    "Export previously fetched data to json"
   ]
  },
  {
   "cell_type": "code",
   "execution_count": 45,
   "metadata": {},
   "outputs": [],
   "source": [
    "pd.read_csv(\"data/chat_messages_clean.csv\").sample(100).to_json(\"data/chat_messages_clean.json\", orient='records')"
   ]
  },
  {
   "cell_type": "markdown",
   "metadata": {},
   "source": [
    "Connect to label studio local instance"
   ]
  },
  {
   "cell_type": "code",
   "execution_count": 46,
   "metadata": {},
   "outputs": [
    {
     "data": {
      "text/plain": [
       "{'status': 'UP'}"
      ]
     },
     "execution_count": 46,
     "metadata": {},
     "output_type": "execute_result"
    }
   ],
   "source": [
    "LABEL_STUDIO_URL = 'http://localhost:8080'\n",
    "API_KEY=\"a92d46be63123cedcbfdc38d951e0257607d425f\"\n",
    "ls = Client(url=LABEL_STUDIO_URL, api_key=API_KEY)\n",
    "ls.check_connection()"
   ]
  },
  {
   "cell_type": "markdown",
   "metadata": {},
   "source": [
    "Start a new project with the specified UI elements"
   ]
  },
  {
   "cell_type": "code",
   "execution_count": 47,
   "metadata": {},
   "outputs": [],
   "source": [
    "project = ls.start_project(\n",
    "    title='Telegram classification',\n",
    "    label_config=f'''\n",
    "<View>\n",
    "   <Style>\n",
    "    .lsf-main-content.lsf-requesting .prompt::before {{ content: ' loading...'; color: #808080; }}\n",
    "  </Style>\n",
    "  <Text name=\"message\" value=\"$message\"/>\n",
    "  <Header value=\"User prompt:\" />\n",
    "  <View className=\"prompt\">\n",
    "    <TextArea name=\"prompt\" toName=\"message\" rows=\"4\" editable=\"true\" maxSubmissions=\"1\" showSubmitButton=\"false\" />\n",
    "  </View>\n",
    "  <Header value=\"Bot answer:\"/>\n",
    "    <TextArea name=\"response\" toName=\"message\" rows=\"4\" editable=\"true\" maxSubmissions=\"1\" showSubmitButton=\"false\" />\n",
    "        <Header value=\"Choose message sentiment\"/>\n",
    "    <Choices name=\"sentiment\" toName=\"message\"\n",
    "             choice=\"single\" showInLine=\"true\">\n",
    "      <Choice value=\"Positive\"/>\n",
    "      <Choice value=\"Negative\"/>\n",
    "      <Choice value=\"Neutral\"/>\n",
    "    </Choices>\n",
    "</View>\n",
    "    '''\n",
    ")"
   ]
  },
  {
   "cell_type": "code",
   "execution_count": 48,
   "metadata": {},
   "outputs": [
    {
     "data": {
      "text/plain": [
       "[37604,\n",
       " 37605,\n",
       " 37606,\n",
       " 37607,\n",
       " 37608,\n",
       " 37609,\n",
       " 37610,\n",
       " 37611,\n",
       " 37612,\n",
       " 37613,\n",
       " 37614,\n",
       " 37615,\n",
       " 37616,\n",
       " 37617,\n",
       " 37618,\n",
       " 37619,\n",
       " 37620,\n",
       " 37621,\n",
       " 37622,\n",
       " 37623,\n",
       " 37624,\n",
       " 37625,\n",
       " 37626,\n",
       " 37627,\n",
       " 37628,\n",
       " 37629,\n",
       " 37630,\n",
       " 37631,\n",
       " 37632,\n",
       " 37633,\n",
       " 37634,\n",
       " 37635,\n",
       " 37636,\n",
       " 37637,\n",
       " 37638,\n",
       " 37639,\n",
       " 37640,\n",
       " 37641,\n",
       " 37642,\n",
       " 37643,\n",
       " 37644,\n",
       " 37645,\n",
       " 37646,\n",
       " 37647,\n",
       " 37648,\n",
       " 37649,\n",
       " 37650,\n",
       " 37651,\n",
       " 37652,\n",
       " 37653,\n",
       " 37654,\n",
       " 37655,\n",
       " 37656,\n",
       " 37657,\n",
       " 37658,\n",
       " 37659,\n",
       " 37660,\n",
       " 37661,\n",
       " 37662,\n",
       " 37663,\n",
       " 37664,\n",
       " 37665,\n",
       " 37666,\n",
       " 37667,\n",
       " 37668,\n",
       " 37669,\n",
       " 37670,\n",
       " 37671,\n",
       " 37672,\n",
       " 37673,\n",
       " 37674,\n",
       " 37675,\n",
       " 37676,\n",
       " 37677,\n",
       " 37678,\n",
       " 37679,\n",
       " 37680,\n",
       " 37681,\n",
       " 37682,\n",
       " 37683,\n",
       " 37684,\n",
       " 37685,\n",
       " 37686,\n",
       " 37687,\n",
       " 37688,\n",
       " 37689,\n",
       " 37690,\n",
       " 37691,\n",
       " 37692,\n",
       " 37693,\n",
       " 37694,\n",
       " 37695,\n",
       " 37696,\n",
       " 37697,\n",
       " 37698,\n",
       " 37699,\n",
       " 37700,\n",
       " 37701,\n",
       " 37702,\n",
       " 37703]"
      ]
     },
     "execution_count": 48,
     "metadata": {},
     "output_type": "execute_result"
    }
   ],
   "source": [
    "import json\n",
    "import json\n",
    "\n",
    "# Load the JSON file\n",
    "with open(\"data/chat_messages_clean.json\", \"r\") as file:\n",
    "    json_data = json.load(file)\n",
    "\n",
    "project.import_tasks(json_data)"
   ]
  }
 ],
 "metadata": {
  "kernelspec": {
   "display_name": "telegram-nlp-cUHCjj8z-py3.10",
   "language": "python",
   "name": "python3"
  },
  "language_info": {
   "codemirror_mode": {
    "name": "ipython",
    "version": 3
   },
   "file_extension": ".py",
   "mimetype": "text/x-python",
   "name": "python",
   "nbconvert_exporter": "python",
   "pygments_lexer": "ipython3",
   "version": "3.10.4"
  }
 },
 "nbformat": 4,
 "nbformat_minor": 2
}
