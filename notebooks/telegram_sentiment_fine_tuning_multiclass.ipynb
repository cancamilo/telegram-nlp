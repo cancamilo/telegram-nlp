{
 "cells": [
  {
   "cell_type": "markdown",
   "metadata": {},
   "source": [
    "# Model fine tunning for multiclass text classification\n",
    "\n",
    "This notebook is used to fine tune a language model for the task of text classification into three different classes. \n",
    "It uses the previously labeled telegram data. "
   ]
  },
  {
   "cell_type": "code",
   "execution_count": 53,
   "metadata": {},
   "outputs": [],
   "source": [
    "import sys\n",
    "import platform\n",
    "import torch\n",
    "import os\n",
    "import pandas as pd\n",
    "import numpy as np\n",
    "import sklearn as sk\n",
    "from datasets import load_dataset, load_metric, Dataset\n",
    "from transformers import AutoTokenizer, AutoModelForSequenceClassification, Trainer"
   ]
  },
  {
   "cell_type": "code",
   "execution_count": 54,
   "metadata": {},
   "outputs": [
    {
     "name": "stdout",
     "output_type": "stream",
     "text": [
      "Python Platform: macOS-14.4.1-arm64-arm-64bit\n",
      "PyTorch Version: 2.3.0\n",
      "\n",
      "Python 3.9.19 (main, Mar 21 2024, 12:07:41) \n",
      "[Clang 14.0.6 ]\n",
      "Pandas 2.2.1\n",
      "Scikit-Learn 1.3.0\n",
      "GPU is NOT AVAILABLE\n",
      "MPS (Apple Metal) is AVAILABLE\n",
      "Target device is mps\n"
     ]
    },
    {
     "name": "stderr",
     "output_type": "stream",
     "text": [
      "/var/folders/w2/1nyptw5136b9mqhj4dvgdky00000gn/T/ipykernel_27753/82983826.py:5: UserWarning: 'has_mps' is deprecated, please use 'torch.backends.mps.is_built()'\n",
      "  device = \"mps\" if getattr(torch,'has_mps',False) \\\n"
     ]
    }
   ],
   "source": [
    "# check hardware availability\n",
    "has_gpu = torch.cuda.is_available()\n",
    "has_mps = torch.backends.mps.is_built()\n",
    "\n",
    "device = \"mps\" if getattr(torch,'has_mps',False) \\\n",
    "    else \"gpu\" if torch.cuda.is_available() else \"cpu\"\n",
    "\n",
    "print(f\"Python Platform: {platform.platform()}\")\n",
    "print(f\"PyTorch Version: {torch.__version__}\")\n",
    "print()\n",
    "print(f\"Python {sys.version}\")\n",
    "print(f\"Pandas {pd.__version__}\")\n",
    "print(f\"Scikit-Learn {sk.__version__}\")\n",
    "print(\"GPU is\", \"available\" if has_gpu else \"NOT AVAILABLE\")\n",
    "print(\"MPS (Apple Metal) is\", \"AVAILABLE\" if has_mps else \"NOT AVAILABLE\")\n",
    "print(f\"Target device is {device}\")"
   ]
  },
  {
   "cell_type": "markdown",
   "metadata": {},
   "source": [
    "## Dataset loading and postprocessing"
   ]
  },
  {
   "cell_type": "markdown",
   "metadata": {},
   "source": [
    "The previously labeled data is split in batches. The following code loads every csv inside the given folder and merges all batches into a dataframe."
   ]
  },
  {
   "cell_type": "code",
   "execution_count": 77,
   "metadata": {},
   "outputs": [
    {
     "data": {
      "text/plain": [
       "(5000, 9)"
      ]
     },
     "execution_count": 77,
     "metadata": {},
     "output_type": "execute_result"
    }
   ],
   "source": [
    "# Path to the folder containing the CSV files\n",
    "folder_path = 'labeled'\n",
    "\n",
    "# Get a list of all CSV files in the folder\n",
    "file_list = [file for file in os.listdir(folder_path) if file.endswith('.csv')]\n",
    "\n",
    "# Create an empty DataFrame to store the merged data\n",
    "merged_df = pd.DataFrame()\n",
    "\n",
    "# Iterate over the file list and read each CSV file into a DataFrame\n",
    "for file in file_list:\n",
    "    file_path = os.path.join(folder_path, file)\n",
    "    df = pd.read_csv(file_path)\n",
    "    \n",
    "    # Merge the current DataFrame with the merged_df\n",
    "    merged_df = pd.concat([merged_df, df], ignore_index=True)\n",
    "\n",
    "# Total labeled data.\n",
    "merged_df.shape"
   ]
  },
  {
   "cell_type": "markdown",
   "metadata": {},
   "source": [
    "Prepare the data for pytorch training"
   ]
  },
  {
   "cell_type": "code",
   "execution_count": 78,
   "metadata": {},
   "outputs": [],
   "source": [
    "def score_sentiment_multiclass(x):\n",
    "  \"\"\"\n",
    "  Transform the text labels into codes.\n",
    "  \"\"\"\n",
    "  if x == \"positive\":\n",
    "    return 0\n",
    "\n",
    "  if x == \"negative\":\n",
    "    return 1\n",
    "\n",
    "  if x == \"neutral\":\n",
    "    return 2\n",
    "  \n",
    "  return 0\n",
    "\n",
    "\n",
    "merged_df[\"target\"] = merged_df[\"sentiment\"].apply(score_sentiment_multiclass)\n",
    "merged_df[\"target\"] = merged_df[\"target\"].astype(int)\n",
    "\n",
    "\n",
    "# load Dataset from Pandas DataFrame\n",
    "dataset = Dataset.from_pandas(merged_df[[\"text\", \"target\", \"sentiment\",\"id\"]])\n",
    "ds = dataset.train_test_split()"
   ]
  },
  {
   "cell_type": "code",
   "execution_count": 79,
   "metadata": {},
   "outputs": [
    {
     "data": {
      "text/html": [
       "<div>\n",
       "<style scoped>\n",
       "    .dataframe tbody tr th:only-of-type {\n",
       "        vertical-align: middle;\n",
       "    }\n",
       "\n",
       "    .dataframe tbody tr th {\n",
       "        vertical-align: top;\n",
       "    }\n",
       "\n",
       "    .dataframe thead th {\n",
       "        text-align: right;\n",
       "    }\n",
       "</style>\n",
       "<table border=\"1\" class=\"dataframe\">\n",
       "  <thead>\n",
       "    <tr style=\"text-align: right;\">\n",
       "      <th></th>\n",
       "      <th>Unnamed: 0</th>\n",
       "      <th>channel_name</th>\n",
       "      <th>id</th>\n",
       "      <th>date</th>\n",
       "      <th>message</th>\n",
       "      <th>replies</th>\n",
       "      <th>token_count</th>\n",
       "      <th>text</th>\n",
       "      <th>sentiment</th>\n",
       "      <th>target</th>\n",
       "    </tr>\n",
       "  </thead>\n",
       "  <tbody>\n",
       "    <tr>\n",
       "      <th>0</th>\n",
       "      <td>0</td>\n",
       "      <td>@runonflux</td>\n",
       "      <td>502754</td>\n",
       "      <td>2024-04-25 16:10:05+00:00</td>\n",
       "      <td>Value\\nTotal   4815000\\nStaked  4729...</td>\n",
       "      <td>MessageReplies(replies=0, replies_pts=618073, ...</td>\n",
       "      <td>22</td>\n",
       "      <td>ValueTotal   4815000Staked  4729421F...</td>\n",
       "      <td>neutral</td>\n",
       "      <td>2</td>\n",
       "    </tr>\n",
       "    <tr>\n",
       "      <th>1</th>\n",
       "      <td>1</td>\n",
       "      <td>@runonflux</td>\n",
       "      <td>502753</td>\n",
       "      <td>2024-04-25 15:49:44+00:00</td>\n",
       "      <td>🚨 FluxOS v5.4.0 will soon be enforced, introdu...</td>\n",
       "      <td>NaN</td>\n",
       "      <td>44</td>\n",
       "      <td>FluxOS v5.4.0 will soon be enforced, introduc...</td>\n",
       "      <td>positive</td>\n",
       "      <td>0</td>\n",
       "    </tr>\n",
       "    <tr>\n",
       "      <th>2</th>\n",
       "      <td>2</td>\n",
       "      <td>@runonflux</td>\n",
       "      <td>502752</td>\n",
       "      <td>2024-04-25 15:33:15+00:00</td>\n",
       "      <td>FLUX is a leading DePIN project, as we have ma...</td>\n",
       "      <td>MessageReplies(replies=0, replies_pts=618073, ...</td>\n",
       "      <td>18</td>\n",
       "      <td>FLUX is a leading DePIN project, as we have ma...</td>\n",
       "      <td>positive</td>\n",
       "      <td>0</td>\n",
       "    </tr>\n",
       "  </tbody>\n",
       "</table>\n",
       "</div>"
      ],
      "text/plain": [
       "   Unnamed: 0 channel_name      id                       date  \\\n",
       "0           0   @runonflux  502754  2024-04-25 16:10:05+00:00   \n",
       "1           1   @runonflux  502753  2024-04-25 15:49:44+00:00   \n",
       "2           2   @runonflux  502752  2024-04-25 15:33:15+00:00   \n",
       "\n",
       "                                             message  \\\n",
       "0            Value\\nTotal   4815000\\nStaked  4729...   \n",
       "1  🚨 FluxOS v5.4.0 will soon be enforced, introdu...   \n",
       "2  FLUX is a leading DePIN project, as we have ma...   \n",
       "\n",
       "                                             replies  token_count  \\\n",
       "0  MessageReplies(replies=0, replies_pts=618073, ...           22   \n",
       "1                                                NaN           44   \n",
       "2  MessageReplies(replies=0, replies_pts=618073, ...           18   \n",
       "\n",
       "                                                text sentiment  target  \n",
       "0            ValueTotal   4815000Staked  4729421F...   neutral       2  \n",
       "1   FluxOS v5.4.0 will soon be enforced, introduc...  positive       0  \n",
       "2  FLUX is a leading DePIN project, as we have ma...  positive       0  "
      ]
     },
     "execution_count": 79,
     "metadata": {},
     "output_type": "execute_result"
    }
   ],
   "source": [
    "merged_df.head(3)"
   ]
  },
  {
   "cell_type": "markdown",
   "metadata": {},
   "source": [
    "## Inference with pretrained transformer\n",
    "\n",
    "Before fine tuning a model, let´s check the performance of a pretrained model on our dataset."
   ]
  },
  {
   "cell_type": "code",
   "execution_count": 80,
   "metadata": {},
   "outputs": [],
   "source": [
    "# Load tokenizer and model, create trainer\n",
    "\n",
    "tokenizer = AutoTokenizer.from_pretrained(\"ProsusAI/finbert\")\n",
    "finbert_model = AutoModelForSequenceClassification.from_pretrained(\"ProsusAI/finbert\", num_labels=3)"
   ]
  },
  {
   "cell_type": "code",
   "execution_count": 95,
   "metadata": {},
   "outputs": [],
   "source": [
    "import matplotlib.pyplot as plt\n",
    "from torch import nn\n",
    "from sklearn.metrics import (accuracy_score, classification_report,\n",
    "  precision_score,\n",
    "  recall_score,\n",
    "  f1_score,\n",
    "  confusion_matrix,\n",
    "  ConfusionMatrixDisplay)\n",
    "\n",
    "\n",
    "def preprocess_function(examples):\n",
    "    # Convert labels to one-hot encoding\n",
    "    # labels = nn.functional.one_hot(torch.tensor(examples['target']), num_classes=3)\n",
    "    # examples['labels'] = labels.tolist()\n",
    "    return tokenizer(examples[\"text\"], padding=\"max_length\", truncation=True)\n",
    "\n",
    "def compute_metrics(model, dataloader, device):\n",
    "    predictions = None\n",
    "    references = None\n",
    "    model.eval()\n",
    "    print(f\"running inference on {device.type}\")\n",
    "    for batch in dataloader:\n",
    "        batch = {k: v.to(device) for k, v in batch.items()}\n",
    "        with torch.no_grad():\n",
    "            outputs = model(**batch)\n",
    "\n",
    "        logits = outputs.logits\n",
    "\n",
    "        if predictions is None:\n",
    "            predictions = torch.argmax(logits, dim=-1)\n",
    "            references = batch[\"labels\"]\n",
    "        else:\n",
    "            predictions = torch.cat((predictions, torch.argmax(logits, dim=-1)))\n",
    "            references = torch.cat((references, batch[\"labels\"]))\n",
    "    \n",
    "    return predictions, references\n",
    "\n",
    "def report_metrics(y_pred, y_true):\n",
    "    # Compute metrics for each class and globally\n",
    "    report = classification_report(y_true, y_pred, output_dict=True)\n",
    "\n",
    "    label_map = {\n",
    "        \"0\": \"positive\",\n",
    "        \"1\": \"negative\",\n",
    "        \"2\": \"neutral\"\n",
    "    }\n",
    "\n",
    "    # Print metrics for each class\n",
    "    for class_label, metrics in report.items():\n",
    "        if class_label.isdigit():  # Check if the label is a class label (not 'accuracy', 'macro avg', 'weighted avg')\n",
    "            print(f\"\\nClass: {label_map[class_label]}:\")\n",
    "            print(f\"Precision: {metrics['precision']}\")\n",
    "            print(f\"Recall: {metrics['recall']}\")\n",
    "            print(f\"F1-score: {metrics['f1-score']}\")\n",
    "\n",
    "    # Print global metrics\n",
    "    print(\"\\nGlobal metrics:\")\n",
    "    print(f\"Accuracy: {report['accuracy']}\")\n",
    "    print(f\"Precision (weighted): {report['weighted avg']['precision']}\")\n",
    "    print(f\"Recall (weighted): {report['weighted avg']['recall']}\")\n",
    "    print(f\"F1-score (weighted): {report['weighted avg']['f1-score']}\")\n",
    "\n",
    "    # Confusion Matrix\n",
    "    conf_matrix = confusion_matrix(y_true, y_pred)\n",
    "\n",
    "    disp = ConfusionMatrixDisplay(conf_matrix)\n",
    "    disp.plot()\n",
    "\n",
    "    plt.show()\n"
   ]
  },
  {
   "cell_type": "code",
   "execution_count": 88,
   "metadata": {},
   "outputs": [
    {
     "data": {
      "application/vnd.jupyter.widget-view+json": {
       "model_id": "e7f9bbf6c6c64b669ccadcc0ef62bd9d",
       "version_major": 2,
       "version_minor": 0
      },
      "text/plain": [
       "Map:   0%|          | 0/1250 [00:00<?, ? examples/s]"
      ]
     },
     "metadata": {},
     "output_type": "display_data"
    }
   ],
   "source": [
    "from torch.utils.data import DataLoader\n",
    "\n",
    "test_dataset = ds[\"test\"].map(preprocess_function, batched=True)\n",
    "test_dataset = test_dataset.remove_columns([\"text\", \"sentiment\", \"id\"])\n",
    "test_dataset = test_dataset.rename_column(\"target\", \"labels\")\n",
    "\n",
    "test_dataset.set_format(\"torch\")\n",
    "test_dataloader = DataLoader(test_dataset, batch_size=8)"
   ]
  },
  {
   "cell_type": "code",
   "execution_count": 89,
   "metadata": {},
   "outputs": [
    {
     "name": "stdout",
     "output_type": "stream",
     "text": [
      "running inference on mps\n"
     ]
    }
   ],
   "source": [
    "# in case device was used before\n",
    "torch.mps.empty_cache()\n",
    "device = torch.device(\"cuda\") if torch.cuda.is_available() else torch.device(\"mps\") if torch.backends.mps.is_available() else torch.device(\"cpu\")\n",
    "finbert_model.to(device)\n",
    "\n",
    "predictions, references = compute_metrics(model=finbert_model, dataloader=test_dataloader, device=device)\n",
    "pred_np = predictions.cpu().numpy()\n",
    "ref_np = references.cpu().numpy()"
   ]
  },
  {
   "cell_type": "code",
   "execution_count": 96,
   "metadata": {},
   "outputs": [
    {
     "name": "stdout",
     "output_type": "stream",
     "text": [
      "\n",
      "Class: positive:\n",
      "Precision: 0.7111111111111111\n",
      "Recall: 0.11307420494699646\n",
      "F1-score: 0.1951219512195122\n",
      "\n",
      "Class: negative:\n",
      "Precision: 0.6666666666666666\n",
      "Recall: 0.14354066985645933\n",
      "F1-score: 0.2362204724409449\n",
      "\n",
      "Class: neutral:\n",
      "Precision: 0.6336206896551724\n",
      "Recall: 0.9696569920844327\n",
      "F1-score: 0.7664233576642335\n",
      "\n",
      "Global metrics:\n",
      "Accuracy: 0.6376\n",
      "Precision (weighted): 0.6566898084291188\n",
      "Recall (weighted): 0.6376\n",
      "F1-score (weighted): 0.5484307968358147\n"
     ]
    },
    {
     "data": {
      "image/png": "[encoded data removed]",
      "text/plain": [
       "<Figure size 640x480 with 2 Axes>"
      ]
     },
     "metadata": {},
     "output_type": "display_data"
    }
   ],
   "source": [
    "report_metrics(pred_np[:], ref_np[:])"
   ]
  },
  {
   "cell_type": "code",
   "execution_count": 97,
   "metadata": {},
   "outputs": [
    {
     "data": {
      "text/plain": [
       "2    1160\n",
       "1      45\n",
       "0      45\n",
       "Name: count, dtype: int64"
      ]
     },
     "execution_count": 97,
     "metadata": {},
     "output_type": "execute_result"
    }
   ],
   "source": [
    "pd.Series(pred_np).value_counts()"
   ]
  },
  {
   "cell_type": "markdown",
   "metadata": {},
   "source": [
    "As observed in the metrics report, the performance of a pretrained model on our data is not optimal and can be improved using fine tunning."
   ]
  },
  {
   "cell_type": "markdown",
   "metadata": {},
   "source": [
    "## Model fine tuning\n",
    "\n",
    "In this section, a pretrained model is used as the basis for fine tunning a new model with a labeled dataset. In this case we will use the previosuly labeled dataset obntained from telegram messages."
   ]
  },
  {
   "cell_type": "code",
   "execution_count": 103,
   "metadata": {},
   "outputs": [],
   "source": [
    "# load Dataset from Pandas DataFrame\n",
    "dataset = Dataset.from_pandas(merged_df[[\"text\", \"target\", \"sentiment\",\"id\"]])\n",
    "ds = dataset.train_test_split()"
   ]
  },
  {
   "cell_type": "code",
   "execution_count": 101,
   "metadata": {},
   "outputs": [],
   "source": [
    "# Load tokenizer and do some preprocessing before training\n",
    "model_checkpoint = \"distilbert-base-uncased\"\n",
    "\n",
    "tokenizer = AutoTokenizer.from_pretrained(model_checkpoint)\n",
    "def preprocess_function(examples):\n",
    "    return tokenizer(examples[\"text\"], padding=\"max_length\", truncation=True)\n",
    "\n",
    "encoded_dataset = ds.map(preprocess_function, batched=True)\n",
    "encoded_dataset = encoded_dataset.remove_columns([\"text\", \"sentiment\", \"id\"])\n",
    "encoded_dataset = encoded_dataset.rename_column(\"target\", \"labels\")\n",
    "encoded_dataset.set_format(\"torch\")"
   ]
  },
  {
   "cell_type": "code",
   "execution_count": 104,
   "metadata": {},
   "outputs": [],
   "source": [
    "# DataLoaders wrapping and splitting into train and eval\n",
    "from torch.utils.data import DataLoader\n",
    "\n",
    "train_dataloader = DataLoader(encoded_dataset[\"train\"], shuffle=True, batch_size=8)\n",
    "eval_dataloader = DataLoader(encoded_dataset[\"test\"], batch_size=8)"
   ]
  },
  {
   "cell_type": "markdown",
   "metadata": {},
   "source": [
    "### Model training"
   ]
  },
  {
   "cell_type": "code",
   "execution_count": 105,
   "metadata": {},
   "outputs": [
    {
     "name": "stderr",
     "output_type": "stream",
     "text": [
      "Some weights of DistilBertForSequenceClassification were not initialized from the model checkpoint at distilbert-base-uncased and are newly initialized: ['classifier.bias', 'classifier.weight', 'pre_classifier.bias', 'pre_classifier.weight']\n",
      "You should probably TRAIN this model on a down-stream task to be able to use it for predictions and inference.\n"
     ]
    }
   ],
   "source": [
    "from transformers import AutoModelForSequenceClassification\n",
    "\n",
    "TRAIN_MODEL = True\n",
    "\n",
    "if not TRAIN_MODEL:\n",
    "    model_name = \"models/telegram_multiclass_1\"\n",
    "else: \n",
    "    model_name = model_checkpoint\n",
    "\n",
    "model = AutoModelForSequenceClassification.from_pretrained(model_name, num_labels=3)"
   ]
  },
  {
   "cell_type": "code",
   "execution_count": 106,
   "metadata": {},
   "outputs": [
    {
     "data": {
      "text/plain": [
       "DistilBertForSequenceClassification(\n",
       "  (distilbert): DistilBertModel(\n",
       "    (embeddings): Embeddings(\n",
       "      (word_embeddings): Embedding(30522, 768, padding_idx=0)\n",
       "      (position_embeddings): Embedding(512, 768)\n",
       "      (LayerNorm): LayerNorm((768,), eps=1e-12, elementwise_affine=True)\n",
       "      (dropout): Dropout(p=0.1, inplace=False)\n",
       "    )\n",
       "    (transformer): Transformer(\n",
       "      (layer): ModuleList(\n",
       "        (0-5): 6 x TransformerBlock(\n",
       "          (attention): MultiHeadSelfAttention(\n",
       "            (dropout): Dropout(p=0.1, inplace=False)\n",
       "            (q_lin): Linear(in_features=768, out_features=768, bias=True)\n",
       "            (k_lin): Linear(in_features=768, out_features=768, bias=True)\n",
       "            (v_lin): Linear(in_features=768, out_features=768, bias=True)\n",
       "            (out_lin): Linear(in_features=768, out_features=768, bias=True)\n",
       "          )\n",
       "          (sa_layer_norm): LayerNorm((768,), eps=1e-12, elementwise_affine=True)\n",
       "          (ffn): FFN(\n",
       "            (dropout): Dropout(p=0.1, inplace=False)\n",
       "            (lin1): Linear(in_features=768, out_features=3072, bias=True)\n",
       "            (lin2): Linear(in_features=3072, out_features=768, bias=True)\n",
       "            (activation): GELUActivation()\n",
       "          )\n",
       "          (output_layer_norm): LayerNorm((768,), eps=1e-12, elementwise_affine=True)\n",
       "        )\n",
       "      )\n",
       "    )\n",
       "  )\n",
       "  (pre_classifier): Linear(in_features=768, out_features=768, bias=True)\n",
       "  (classifier): Linear(in_features=768, out_features=3, bias=True)\n",
       "  (dropout): Dropout(p=0.2, inplace=False)\n",
       ")"
      ]
     },
     "execution_count": 106,
     "metadata": {},
     "output_type": "execute_result"
    }
   ],
   "source": [
    "# in case device was used before\n",
    "torch.mps.empty_cache()\n",
    "\n",
    "# Define optimizer\n",
    "from torch.optim import AdamW\n",
    "optimizer = AdamW(model.parameters(), lr=5e-5)\n",
    "\n",
    "# Define scheduller\n",
    "from transformers import get_scheduler\n",
    "num_epochs = 3\n",
    "num_training_steps = num_epochs * len(train_dataloader)\n",
    "lr_scheduler = get_scheduler(\n",
    "    name=\"linear\", optimizer=optimizer, num_warmup_steps=0, num_training_steps=num_training_steps\n",
    ")\n",
    "\n",
    "# Device selection\n",
    "device = torch.device(\"cuda\") if torch.cuda.is_available() else torch.device(\"mps\") if torch.backends.mps.is_available() else torch.device(\"cpu\")\n",
    "model.to(device)"
   ]
  },
  {
   "cell_type": "code",
   "execution_count": 107,
   "metadata": {},
   "outputs": [
    {
     "data": {
      "application/vnd.jupyter.widget-view+json": {
       "model_id": "a5ba106b39514f7ebe7410a39752a79b",
       "version_major": 2,
       "version_minor": 0
      },
      "text/plain": [
       "  0%|          | 0/1407 [00:00<?, ?it/s]"
      ]
     },
     "metadata": {},
     "output_type": "display_data"
    }
   ],
   "source": [
    "# Training loop\n",
    "\n",
    "from tqdm.auto import tqdm\n",
    "\n",
    "progress_bar = tqdm(range(num_training_steps))\n",
    "\n",
    "model.train()\n",
    "for epoch in range(num_epochs):\n",
    "    for batch in train_dataloader:\n",
    "        batch = {k: v.to(device) for k, v in batch.items()}\n",
    "        outputs = model(**batch)\n",
    "        loss = outputs.loss\n",
    "        loss.backward()\n",
    "\n",
    "        optimizer.step()\n",
    "        lr_scheduler.step()\n",
    "        optimizer.zero_grad()\n",
    "        progress_bar.update(1)"
   ]
  },
  {
   "cell_type": "markdown",
   "metadata": {},
   "source": [
    "### Metrics"
   ]
  },
  {
   "cell_type": "code",
   "execution_count": 108,
   "metadata": {},
   "outputs": [
    {
     "name": "stdout",
     "output_type": "stream",
     "text": [
      "running inference on mps\n",
      "\n",
      "Class: positive:\n",
      "Precision: 0.756198347107438\n",
      "Recall: 0.6466431095406361\n",
      "F1-score: 0.6971428571428573\n",
      "\n",
      "Class: negative:\n",
      "Precision: 0.6269430051813472\n",
      "Recall: 0.5789473684210527\n",
      "F1-score: 0.6019900497512438\n",
      "\n",
      "Class: neutral:\n",
      "Precision: 0.803680981595092\n",
      "Recall: 0.8641160949868074\n",
      "F1-score: 0.8328035600762873\n",
      "\n",
      "Global metrics:\n",
      "Accuracy: 0.7672\n",
      "Precision (weighted): 0.7633803234907091\n",
      "Recall (weighted): 0.7672\n",
      "F1-score (weighted): 0.7634979580058116\n"
     ]
    },
    {
     "data": {
      "image/png": "[encoded data removed]",
      "text/plain": [
       "<Figure size 640x480 with 2 Axes>"
      ]
     },
     "metadata": {},
     "output_type": "display_data"
    }
   ],
   "source": [
    "predictions, references = compute_metrics(model, eval_dataloader, device=device)\n",
    "pred_np = predictions.cpu().numpy()\n",
    "ref_np = references.cpu().numpy()\n",
    "report_metrics(pred_np[:], ref_np[:])"
   ]
  },
  {
   "cell_type": "markdown",
   "metadata": {},
   "source": [
    "With only 3750 training samples, the fine tunning already achieves a higher performance than a standard pretrained model. The process can be repetead with more labeled samples to obtain a better performance."
   ]
  },
  {
   "cell_type": "markdown",
   "metadata": {},
   "source": [
    "Finally, the model weights can be saved for future usage."
   ]
  },
  {
   "cell_type": "code",
   "execution_count": 112,
   "metadata": {},
   "outputs": [],
   "source": [
    "model.save_pretrained(\"models/telegram_multiclass_1\")"
   ]
  }
 ],
 "metadata": {
  "kernelspec": {
   "display_name": "torch",
   "language": "python",
   "name": "python3"
  },
  "language_info": {
   "codemirror_mode": {
    "name": "ipython",
    "version": 3
   },
   "file_extension": ".py",
   "mimetype": "text/x-python",
   "name": "python",
   "nbconvert_exporter": "python",
   "pygments_lexer": "ipython3",
   "version": "3.9.19"
  },
  "orig_nbformat": 4
 },
 "nbformat": 4,
 "nbformat_minor": 2
}
